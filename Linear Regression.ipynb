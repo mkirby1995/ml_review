{
 "cells": [
  {
   "cell_type": "markdown",
   "metadata": {},
   "source": [
    "# Linear Regression"
   ]
  },
  {
   "cell_type": "code",
   "execution_count": 2,
   "metadata": {},
   "outputs": [],
   "source": [
    "import numpy as np\n",
    "import matplotlib.pyplot as plt\n",
    "%matplotlib inline"
   ]
  },
  {
   "cell_type": "code",
   "execution_count": 3,
   "metadata": {},
   "outputs": [],
   "source": [
    "data = np.matrix([\n",
    "    [4,1],\n",
    "    [2,2],\n",
    "    [3,3],\n",
    "    [1,4],\n",
    "    [6,5],\n",
    "    [7,6],\n",
    "    [5,7],\n",
    "    [9,8],\n",
    "    [10,9]\n",
    "])"
   ]
  },
  {
   "cell_type": "code",
   "execution_count": 4,
   "metadata": {},
   "outputs": [
    {
     "data": {
      "text/plain": [
       "matrix([[ 4],\n",
       "        [ 2],\n",
       "        [ 3],\n",
       "        [ 1],\n",
       "        [ 6],\n",
       "        [ 7],\n",
       "        [ 5],\n",
       "        [ 9],\n",
       "        [10]])"
      ]
     },
     "execution_count": 4,
     "metadata": {},
     "output_type": "execute_result"
    }
   ],
   "source": [
    "y = data[:,0]\n",
    "y"
   ]
  },
  {
   "cell_type": "code",
   "execution_count": 5,
   "metadata": {},
   "outputs": [
    {
     "data": {
      "text/plain": [
       "matrix([[1],\n",
       "        [2],\n",
       "        [3],\n",
       "        [4],\n",
       "        [5],\n",
       "        [6],\n",
       "        [7],\n",
       "        [8],\n",
       "        [9]])"
      ]
     },
     "execution_count": 5,
     "metadata": {},
     "output_type": "execute_result"
    }
   ],
   "source": [
    "x = data[:,1]\n",
    "x"
   ]
  },
  {
   "cell_type": "code",
   "execution_count": 6,
   "metadata": {},
   "outputs": [
    {
     "data": {
      "text/plain": [
       "matrix([[1., 1.],\n",
       "        [1., 2.],\n",
       "        [1., 3.],\n",
       "        [1., 4.],\n",
       "        [1., 5.],\n",
       "        [1., 6.],\n",
       "        [1., 7.],\n",
       "        [1., 8.],\n",
       "        [1., 9.]])"
      ]
     },
     "execution_count": 6,
     "metadata": {},
     "output_type": "execute_result"
    }
   ],
   "source": [
    "regression_matrix = np.c_[ np.ones(data.shape[0]), x]\n",
    "regression_matrix"
   ]
  },
  {
   "cell_type": "markdown",
   "metadata": {},
   "source": [
    "### Beta"
   ]
  },
  {
   "cell_type": "code",
   "execution_count": 7,
   "metadata": {},
   "outputs": [
    {
     "data": {
      "text/plain": [
       "matrix([[1., 1., 1., 1., 1., 1., 1., 1., 1.],\n",
       "        [1., 2., 3., 4., 5., 6., 7., 8., 9.]])"
      ]
     },
     "execution_count": 7,
     "metadata": {},
     "output_type": "execute_result"
    }
   ],
   "source": [
    "step_1 = regression_matrix.transpose()\n",
    "step_1"
   ]
  },
  {
   "cell_type": "code",
   "execution_count": 102,
   "metadata": {},
   "outputs": [
    {
     "data": {
      "text/plain": [
       "array([[ 4.4445e-01,  3.6112e-01,  2.7779e-01,  1.9446e-01,  1.1113e-01,\n",
       "         2.7800e-02, -5.5530e-02, -1.3886e-01, -2.2219e-01],\n",
       "       [-6.6660e-02, -4.9990e-02, -3.3320e-02, -1.6650e-02,  2.0000e-05,\n",
       "         1.6690e-02,  3.3360e-02,  5.0030e-02,  6.6700e-02]])"
      ]
     },
     "execution_count": 102,
     "metadata": {},
     "output_type": "execute_result"
    }
   ],
   "source": [
    "a = np.array([[1,1,1,1,1,1,1,1,1],[1,2,3,4,5,6,7,8,9]])\n",
    "\n",
    "b = np.array([[.52778, -.08333],[-.08333, .01667]])\n",
    "\n",
    "np.dot(b, a)"
   ]
  },
  {
   "cell_type": "code",
   "execution_count": 8,
   "metadata": {},
   "outputs": [
    {
     "data": {
      "text/plain": [
       "matrix([[  9.,  45.],\n",
       "        [ 45., 285.]])"
      ]
     },
     "execution_count": 8,
     "metadata": {},
     "output_type": "execute_result"
    }
   ],
   "source": [
    "step_2 = np.dot(step_1, regression_matrix)\n",
    "step_2"
   ]
  },
  {
   "cell_type": "code",
   "execution_count": 9,
   "metadata": {},
   "outputs": [
    {
     "data": {
      "text/plain": [
       "matrix([[ 0.52777778, -0.08333333],\n",
       "        [-0.08333333,  0.01666667]])"
      ]
     },
     "execution_count": 9,
     "metadata": {},
     "output_type": "execute_result"
    }
   ],
   "source": [
    "step_3 = np.linalg.inv(step_2)\n",
    "step_3"
   ]
  },
  {
   "cell_type": "code",
   "execution_count": 10,
   "metadata": {},
   "outputs": [
    {
     "data": {
      "text/plain": [
       "matrix([[ 0.44444444,  0.36111111,  0.27777778,  0.19444444,  0.11111111,\n",
       "          0.02777778, -0.05555556, -0.13888889, -0.22222222],\n",
       "        [-0.06666667, -0.05      , -0.03333333, -0.01666667,  0.        ,\n",
       "          0.01666667,  0.03333333,  0.05      ,  0.06666667]])"
      ]
     },
     "execution_count": 10,
     "metadata": {},
     "output_type": "execute_result"
    }
   ],
   "source": [
    "step_4 = np.dot(step_3, step_1)\n",
    "step_4"
   ]
  },
  {
   "cell_type": "code",
   "execution_count": 11,
   "metadata": {},
   "outputs": [
    {
     "data": {
      "text/plain": [
       "matrix([[0.63888889],\n",
       "        [0.91666667]])"
      ]
     },
     "execution_count": 11,
     "metadata": {},
     "output_type": "execute_result"
    }
   ],
   "source": [
    "step_5 = step_4 * y #not a dot product\n",
    "step_5"
   ]
  },
  {
   "cell_type": "code",
   "execution_count": 12,
   "metadata": {},
   "outputs": [
    {
     "data": {
      "text/plain": [
       "matrix([[0.63888889],\n",
       "        [0.91666667]])"
      ]
     },
     "execution_count": 12,
     "metadata": {},
     "output_type": "execute_result"
    }
   ],
   "source": [
    "beta = np.linalg.inv(regression_matrix.transpose() * regression_matrix) * regression_matrix.transpose() * y\n",
    "beta"
   ]
  },
  {
   "cell_type": "markdown",
   "metadata": {},
   "source": [
    "### Result"
   ]
  },
  {
   "cell_type": "code",
   "execution_count": 13,
   "metadata": {},
   "outputs": [
    {
     "data": {
      "text/plain": [
       "matrix([[1.55555556],\n",
       "        [2.47222222],\n",
       "        [3.38888889],\n",
       "        [4.30555556],\n",
       "        [5.22222222],\n",
       "        [6.13888889],\n",
       "        [7.05555556],\n",
       "        [7.97222222],\n",
       "        [8.88888889]])"
      ]
     },
     "execution_count": 13,
     "metadata": {},
     "output_type": "execute_result"
    }
   ],
   "source": [
    "regression_result = regression_matrix * beta\n",
    "regression_result"
   ]
  },
  {
   "cell_type": "markdown",
   "metadata": {},
   "source": [
    "### Plot"
   ]
  },
  {
   "cell_type": "code",
   "execution_count": 14,
   "metadata": {},
   "outputs": [
    {
     "data": {
      "image/png": "[encoded data removed]",
      "text/plain": [
       "<Figure size 432x288 with 1 Axes>"
      ]
     },
     "metadata": {
      "needs_background": "light"
     },
     "output_type": "display_data"
    }
   ],
   "source": [
    "plt.plot(x,y,'ro')\n",
    "plt.plot(x,regression_result)\n",
    "plt.title(\"Linear Regression\")\n",
    "plt.show()"
   ]
  },
  {
   "cell_type": "markdown",
   "metadata": {},
   "source": [
    "## Wrap it all up"
   ]
  },
  {
   "cell_type": "code",
   "execution_count": 15,
   "metadata": {},
   "outputs": [],
   "source": [
    "class LinearRegression:\n",
    "    \n",
    "    \n",
    "    def __init__(self):\n",
    "        pass\n",
    "        \n",
    "        \n",
    "    def fit(self, x, y):\n",
    "        regression_matrix = np.c_[np.ones(len(y)), x]\n",
    "        beta = np.linalg.inv(regression_matrix.transpose() * regression_matrix)\\\n",
    "            * regression_matrix.transpose() * y\n",
    "        result = regression_matrix * beta\n",
    "        return result\n",
    "    "
   ]
  },
  {
   "cell_type": "code",
   "execution_count": 16,
   "metadata": {},
   "outputs": [
    {
     "data": {
      "text/plain": [
       "matrix([[1.55555556],\n",
       "        [2.47222222],\n",
       "        [3.38888889],\n",
       "        [4.30555556],\n",
       "        [5.22222222],\n",
       "        [6.13888889],\n",
       "        [7.05555556],\n",
       "        [7.97222222],\n",
       "        [8.88888889]])"
      ]
     },
     "execution_count": 16,
     "metadata": {},
     "output_type": "execute_result"
    }
   ],
   "source": [
    "linreg = LinearRegression()\n",
    "\n",
    "linreg.fit(x, y)"
   ]
  },
  {
   "cell_type": "markdown",
   "metadata": {},
   "source": [
    "## Mean Squared Error"
   ]
  },
  {
   "cell_type": "code",
   "execution_count": 17,
   "metadata": {},
   "outputs": [
    {
     "data": {
      "text/plain": [
       "2.7932098765432096"
      ]
     },
     "execution_count": 17,
     "metadata": {},
     "output_type": "execute_result"
    }
   ],
   "source": [
    "np.mean(np.square(np.absolute(linreg.fit(x, y) - y)))"
   ]
  },
  {
   "cell_type": "markdown",
   "metadata": {},
   "source": [
    "## From Scratch"
   ]
  },
  {
   "cell_type": "code",
   "execution_count": 18,
   "metadata": {},
   "outputs": [
    {
     "data": {
      "text/plain": [
       "([1, 2, 3, 4, 5, 6, 7, 8, 9], [4, 2, 3, 1, 6, 7, 5, 9, 10])"
      ]
     },
     "execution_count": 18,
     "metadata": {},
     "output_type": "execute_result"
    }
   ],
   "source": [
    "data = [[4,1],[2,2],[3,3],[1,4],[6,5],[7,6],[5,7],[9,8],[10,9]]\n",
    "x = [i[1] for i in data]\n",
    "y = [i[0] for i in data]\n",
    "\n",
    "x, y"
   ]
  },
  {
   "cell_type": "code",
   "execution_count": 19,
   "metadata": {},
   "outputs": [
    {
     "data": {
      "text/plain": [
       "[[1, 1], [1, 2], [1, 3], [1, 4], [1, 5], [1, 6], [1, 7], [1, 8], [1, 9]]"
      ]
     },
     "execution_count": 19,
     "metadata": {},
     "output_type": "execute_result"
    }
   ],
   "source": [
    "reg_matrix = [[(i * 0) + 1, i] for i in x]\n",
    "reg_matrix"
   ]
  },
  {
   "cell_type": "code",
   "execution_count": 20,
   "metadata": {},
   "outputs": [
    {
     "data": {
      "text/plain": [
       "[[1, 1, 1, 1, 1, 1, 1, 1, 1], [1, 2, 3, 4, 5, 6, 7, 8, 9]]"
      ]
     },
     "execution_count": 20,
     "metadata": {},
     "output_type": "execute_result"
    }
   ],
   "source": [
    "transposed_reg_matrix = [[i[0] for i in reg_matrix], [i[1] for i in reg_matrix]]\n",
    "transposed_reg_matrix"
   ]
  },
  {
   "cell_type": "code",
   "execution_count": 21,
   "metadata": {},
   "outputs": [],
   "source": [
    "def dot_product(matrix_a, matrix_b):    \n",
    "    dot_product = []\n",
    "    for i in range(len(matrix_b[0])):\n",
    "        prod_row = []\n",
    "        for j in range(len(matrix_a)):\n",
    "            row = matrix_a[i]\n",
    "            column = [x[j] for x in matrix_b]\n",
    "            prod_row.append(sum([m * n for m, n in zip(row, column)]))\n",
    "        dot_product.append(prod_row)\n",
    "\n",
    "    return dot_product  "
   ]
  },
  {
   "cell_type": "code",
   "execution_count": 22,
   "metadata": {},
   "outputs": [
    {
     "data": {
      "text/plain": [
       "[[9, 45], [45, 285]]"
      ]
     },
     "execution_count": 22,
     "metadata": {},
     "output_type": "execute_result"
    }
   ],
   "source": [
    "dot_product(transposed_reg_matrix, reg_matrix)"
   ]
  },
  {
   "cell_type": "code",
   "execution_count": 23,
   "metadata": {},
   "outputs": [],
   "source": [
    "def inverse(two_x_two_matrix):\n",
    "    fraction = 1 / ((two_x_two_matrix[0][0] * two_x_two_matrix[1][1])\\\n",
    "               - (two_x_two_matrix[0][1] * two_x_two_matrix[1][0]))\n",
    "    \n",
    "    # rearrange_matrix\n",
    "    initial_00 = two_x_two_matrix[0][0]\n",
    "    initial_11 = two_x_two_matrix[1][1]\n",
    "    two_x_two_matrix[0][0] = initial_11 * fraction\n",
    "    two_x_two_matrix[0][1] = (two_x_two_matrix[0][1] * -1) * fraction\n",
    "    two_x_two_matrix[1][0] = (two_x_two_matrix[1][0] * -1) * fraction\n",
    "    two_x_two_matrix[1][1] = initial_00 * fraction\n",
    "    \n",
    "    return two_x_two_matrix  "
   ]
  },
  {
   "cell_type": "code",
   "execution_count": 24,
   "metadata": {},
   "outputs": [
    {
     "data": {
      "text/plain": [
       "[[0.5277777777777778, -0.08333333333333334],\n",
       " [-0.08333333333333334, 0.016666666666666666]]"
      ]
     },
     "execution_count": 24,
     "metadata": {},
     "output_type": "execute_result"
    }
   ],
   "source": [
    "inverse(dot_product(transposed_reg_matrix, reg_matrix))"
   ]
  },
  {
   "cell_type": "code",
   "execution_count": 25,
   "metadata": {},
   "outputs": [
    {
     "data": {
      "text/plain": [
       "[[1, 1, 1, 1, 1, 1, 1, 1, 1], [1, 2, 3, 4, 5, 6, 7, 8, 9]]"
      ]
     },
     "execution_count": 25,
     "metadata": {},
     "output_type": "execute_result"
    }
   ],
   "source": [
    "a = inverse(dot_product(transposed_reg_matrix, reg_matrix))\n",
    "b = transposed_reg_matrix\n",
    "\n",
    "b"
   ]
  },
  {
   "cell_type": "code",
   "execution_count": 104,
   "metadata": {},
   "outputs": [
    {
     "name": "stdout",
     "output_type": "stream",
     "text": [
      "[1, 1] [0.5277777777777778, -0.08333333333333334]\n",
      "-0.04398148148148149\n",
      "[1, 1] [-0.08333333333333334, 0.016666666666666666]\n",
      "-0.001388888888888889\n",
      "[1, 2] [0.5277777777777778, -0.08333333333333334]\n",
      "-0.08796296296296298\n",
      "[1, 2] [-0.08333333333333334, 0.016666666666666666]\n",
      "-0.002777777777777778\n",
      "[1, 3] [0.5277777777777778, -0.08333333333333334]\n",
      "-0.13194444444444448\n",
      "[1, 3] [-0.08333333333333334, 0.016666666666666666]\n",
      "-0.004166666666666667\n",
      "[1, 4] [0.5277777777777778, -0.08333333333333334]\n",
      "-0.17592592592592596\n",
      "[1, 4] [-0.08333333333333334, 0.016666666666666666]\n",
      "-0.005555555555555556\n",
      "[1, 5] [0.5277777777777778, -0.08333333333333334]\n",
      "-0.21990740740740744\n",
      "[1, 5] [-0.08333333333333334, 0.016666666666666666]\n",
      "-0.006944444444444446\n",
      "[1, 6] [0.5277777777777778, -0.08333333333333334]\n",
      "-0.26388888888888895\n",
      "[1, 6] [-0.08333333333333334, 0.016666666666666666]\n",
      "-0.008333333333333333\n",
      "[1, 7] [0.5277777777777778, -0.08333333333333334]\n",
      "-0.3078703703703704\n",
      "[1, 7] [-0.08333333333333334, 0.016666666666666666]\n",
      "-0.009722222222222222\n",
      "[1, 8] [0.5277777777777778, -0.08333333333333334]\n",
      "-0.3518518518518519\n",
      "[1, 8] [-0.08333333333333334, 0.016666666666666666]\n",
      "-0.011111111111111112\n",
      "[1, 9] [0.5277777777777778, -0.08333333333333334]\n",
      "-0.39583333333333337\n",
      "[1, 9] [-0.08333333333333334, 0.016666666666666666]\n",
      "-0.012500000000000002\n"
     ]
    }
   ],
   "source": [
    "matrix_a = inverse(dot_product(transposed_reg_matrix, reg_matrix))\n",
    "matrix_b = transposed_reg_matrix\n",
    "result = []\n",
    "\n",
    "for i in [[a, b] for a, b in zip(matrix_b[0], matrix_b[1])]:\n",
    "    row = []\n",
    "    for j in matrix_a:\n",
    "        print(i, j)\n",
    "        product = i[0] * i[1] * j[0] * j[1]\n",
    "        print(product)\n",
    "        row.append(product)\n",
    "    result.append(row)"
   ]
  },
  {
   "cell_type": "code",
   "execution_count": 105,
   "metadata": {},
   "outputs": [
    {
     "data": {
      "text/plain": [
       "[[-0.04398148148148149, -0.001388888888888889],\n",
       " [-0.08796296296296298, -0.002777777777777778],\n",
       " [-0.13194444444444448, -0.004166666666666667],\n",
       " [-0.17592592592592596, -0.005555555555555556],\n",
       " [-0.21990740740740744, -0.006944444444444446],\n",
       " [-0.26388888888888895, -0.008333333333333333],\n",
       " [-0.3078703703703704, -0.009722222222222222],\n",
       " [-0.3518518518518519, -0.011111111111111112],\n",
       " [-0.39583333333333337, -0.012500000000000002]]"
      ]
     },
     "execution_count": 105,
     "metadata": {},
     "output_type": "execute_result"
    }
   ],
   "source": [
    "result"
   ]
  },
  {
   "cell_type": "code",
   "execution_count": 107,
   "metadata": {},
   "outputs": [
    {
     "data": {
      "text/plain": [
       "[[0.4444444444444444, -0.06666666666666668],\n",
       " [0.3611111111111111, -0.05000000000000001]]"
      ]
     },
     "execution_count": 107,
     "metadata": {},
     "output_type": "execute_result"
    }
   ],
   "source": [
    "dot_product(matrix_b, matrix_a)"
   ]
  },
  {
   "cell_type": "code",
   "execution_count": 108,
   "metadata": {},
   "outputs": [
    {
     "name": "stdin",
     "output_type": "stream",
     "text": [
      " 12\n"
     ]
    }
   ],
   "source": [
    "cmd = input()"
   ]
  },
  {
   "cell_type": "code",
   "execution_count": 110,
   "metadata": {},
   "outputs": [
    {
     "data": {
      "text/plain": [
       "'12'"
      ]
     },
     "execution_count": 110,
     "metadata": {},
     "output_type": "execute_result"
    }
   ],
   "source": [
    "cmd.split( )[0]"
   ]
  },
  {
   "cell_type": "code",
   "execution_count": null,
   "metadata": {},
   "outputs": [],
   "source": []
  }
 ],
 "metadata": {
  "kernelspec": {
   "display_name": "Python 3",
   "language": "python",
   "name": "python3"
  },
  "language_info": {
   "codemirror_mode": {
    "name": "ipython",
    "version": 3
   },
   "file_extension": ".py",
   "mimetype": "text/x-python",
   "name": "python",
   "nbconvert_exporter": "python",
   "pygments_lexer": "ipython3",
   "version": "3.7.0"
  }
 },
 "nbformat": 4,
 "nbformat_minor": 2
}
